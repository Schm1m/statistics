{
 "cells": [
  {
   "cell_type": "markdown",
   "metadata": {},
   "source": [
    "# Statistik-Labor Testat Aufgabe 3"
   ]
  },
  {
   "cell_type": "markdown",
   "metadata": {},
   "source": [
    "Sie können dieses File als Vorlage für Ihre Lösung verwenden und nicht benötigte Teile rauslöschen bzw. Zellen für die Lösung ergänzen. <br> \n",
    "***Tipps und Hinweise:*** Alle Zellen, die mit _Tipps und Hinweise_ anfangen, können Sie löschen, falls Sie sie nicht (mehr) brauchen. <br>\n",
    "Oder Sie kopieren die Aufgaben in ein eigenes Lösungsnotebook."
   ]
  },
  {
   "cell_type": "markdown",
   "metadata": {},
   "source": [
    "# Aufgabe 3\n",
    "In dieser Aufgabe wird die Lotterie „KENO“ untersucht, die die staatlichen Lottogesellschaften\n",
    "täglich (von Montag bis Samstag) anbieten. Bei dieser Lotterie besteht ein Tippfeld aus 70\n",
    "Zahlen. Ein Teilnehmer an der Lotterie kann selbst entscheiden, wie viele dieser Zahlen er\n",
    "ankreuzt (mindestens 2, höchstens 10) und welchen Betrag er einsetzt (1, 2, 5 oder 10 Euro). Die\n",
    "Abbildung zeigt ein Muster eines KENO-Spielscheins.\n",
    "<div>\n",
    "<img src=\"img/a3_keno.png\" width=\"500\"/>\n",
    "</div>"
   ]
  },
  {
   "cell_type": "markdown",
   "metadata": {},
   "source": [
    "Von den 70 Zahlen werden 20 Gewinnzahlen gezogen. Je nachdem, wie viele der Gewinnzahlen\n",
    "er angekreuzt hatte, bekommt der Lotterieteilnehmer einen festen Geldbetrag ausgezahlt. Der\n",
    "Gewinnplan (Stand 01.01.2005) ist im Folgenden aufgelistet. (Es gibt Sonderregelungen für die\n",
    "jeweils höchsten Gewinnklassen bei 10 oder 9 getippten Zahlen; diese sollen nicht\n",
    "berücksichtigt werden und sind daher nicht hier aufgeführt.)\n",
    "\n",
    "KENO-Gewinnquoten bei **10** getippten Zahlen\n",
    "\n",
    "|Anzahl richtig getippter Zahlen | Feste Auszahlung je 1 € Einsatz |\n",
    "|--------------------------------|---------------------------------|\n",
    "|10 |100.000 €|\n",
    "| 9 |1.000 €  |\n",
    "| 8 |100 €    |\n",
    "| 7 |15 €     |\n",
    "| 6 |5 €      |\n",
    "| 5 |2 €      |\n",
    "| 0 |2 €      |\n",
    "\n",
    "KENO-Gewinnquoten bei **9** getippten Zahlen\n",
    "\n",
    "|Anzahl richtig getippter Zahlen | Feste Auszahlung je 1 € Einsatz |\n",
    "|--------------------------------|---------------------------------|\n",
    "|9 |50.000 €|\n",
    "|8 |1.000 €|\n",
    "|7 |20 €|\n",
    "|6 |5 €|\n",
    "|5 |2 €|\n",
    "|0 |2 €\n",
    "\n",
    "KENO-Gewinnquoten bei **8** getippten Zahlen\n",
    "\n",
    "|Anzahl richtig getippter Zahlen | Feste Auszahlung je 1 € Einsatz |\n",
    "|--------------------------------|---------------------------------|\n",
    "|8 |10.000 €|\n",
    "|7 |100 €|\n",
    "|6 |15 €|\n",
    "|5 |2 €|\n",
    "|4 |1 €|\n",
    "|0 |1 €|\n",
    "\n",
    "KENO-Gewinnquoten bei **7** getippten Zahlen\n",
    "\n",
    "|Anzahl richtig getippter Zahlen | Feste Auszahlung je 1 € Einsatz |\n",
    "|--------------------------------|---------------------------------|\n",
    "|7 |1.000 €|\n",
    "|6 |100 €|\n",
    "|5 |12 €|\n",
    "|4 |1 €|\n",
    "\n",
    "KENO-Gewinnquoten bei **6** getippten Zahlen\n",
    "\n",
    "|Anzahl richtig getippter Zahlen | Feste Auszahlung je 1 € Einsatz |\n",
    "|--------------------------------|---------------------------------|\n",
    "|6 |500 €|\n",
    "|5 |15 €|\n",
    "|4 |2 €|\n",
    "|3 |1 €|\n",
    "\n",
    "KENO-Gewinnquoten bei **5** getippten Zahlen\n",
    "\n",
    "|Anzahl richtig getippter Zahlen | Feste Auszahlung je 1 € Einsatz |\n",
    "|--------------------------------|---------------------------------|\n",
    "|5 |100 €|\n",
    "|4 |7 €  |\n",
    "|3 |2 €  |\n",
    "\n",
    "KENO-Gewinnquoten bei **4** getippten Zahlen\n",
    "\n",
    "|Anzahl richtig getippter Zahlen | Feste Auszahlung je 1 € Einsatz |\n",
    "|--------------------------------|---------------------------------|\n",
    "|4 |22 €|\n",
    "|3 |2 € |\n",
    "|2 |1 € |\n",
    "\n",
    "KENO-Gewinnquoten bei **3** getippten Zahlen\n",
    "\n",
    "|Anzahl richtig getippter Zahlen | Feste Auszahlung je 1 € Einsatz |\n",
    "|--------------------------------|---------------------------------|\n",
    "|3 |16 €|\n",
    "|2 |1 € |\n",
    "\n",
    "KENO-Gewinnquoten bei **2** getippten Zahlen\n",
    "\n",
    "|Anzahl richtig getippter Zahlen | Feste Auszahlung je 1 € Einsatz |\n",
    "|--------------------------------|---------------------------------|\n",
    "|2 |6 € |\n",
    "\n",
    "Ablesebeispiel: Sie haben auf dem Spielschein in einem Tippfeld 7 Zahlen angekreuzt; Ihr Einsatz beträgt 2 €. Wenn Sie unter Ihren 7 Zahlen genau 5 Richtige haben, erhalten Sie $2 \\cdot 12$ € = 24 € ausbezahlt (d. h. Ihr Gewinn beträgt 22 €). Wenn Sie stattdessen nur 3 Richtige haben, erhalten Sie nichts (d. h. Sie haben einen Verlust in Höhe Ihres Einsatzes von 2 €)."
   ]
  },
  {
   "cell_type": "markdown",
   "metadata": {},
   "source": [
    "## a) EW, Var, Std.abw. für $X_{10}$\n",
    "Die Zufallsvariable $X_{10}$ beschreibt den Gewinn eines Lotterieteilnehmers, der in einem Tippfeld 10 Kästchen ankreuzt und 2 € einsetzt. Berechnen Sie Erwartungswert, Varianz und\n",
    "Standardabweichung von $X_{10}$. <br> \n",
    "Zeigen Sie diese drei Kennzahlen auf 4 Nachkommastellen genau an."
   ]
  },
  {
   "cell_type": "code",
   "execution_count": 399,
   "metadata": {},
   "outputs": [],
   "source": [
    "# Imports\n",
    "import numpy as np\n",
    "from scipy.stats import hypergeom, binom\n",
    "import math\n",
    "import pandas as pd"
   ]
  },
  {
   "cell_type": "code",
   "execution_count": 400,
   "metadata": {},
   "outputs": [],
   "source": [
    "# function to calculate the expected value for a normal distr.\n",
    "# NMn is an array with the order [N, M, n]\n",
    "# invest is the value invested ( the factor to multiply the return value with )\n",
    "# norm_ret is an array for the return values for [x] hits\n",
    "def expectedValue(NMn, invest, norm_ret):\n",
    "    distr = hypergeom(NMn[0],NMn[1],NMn[2])\n",
    "    real_ret = (np.asarray(norm_ret)*invest)-invest\n",
    "    \n",
    "    prob = list(range(0,NMn[1]+1))\n",
    "    for i in range(NMn[1]+1):\n",
    "        prob[i] = distr.pmf(i)\n",
    "        \n",
    "    prob = np.asarray(prob)\n",
    "    \n",
    "    return (real_ret * prob).sum() / prob.sum()\n",
    "\n",
    "# basically the same as for the expected value but calculates the variance\n",
    "def variance(NMn, invest, norm_ret):\n",
    "    exp = expectedValue(NMn, invest, norm_ret)\n",
    "    distr = hypergeom(NMn[0], NMn[1], NMn[2])\n",
    "    real_ret = (np.asarray(norm_ret) * invest) - invest\n",
    "\n",
    "    var = list(range(0, NMn[1] + 1))\n",
    "\n",
    "    for i in range(NMn[1]+1):\n",
    "        var[i] = distr.pmf(i)*(real_ret[i]-exp)**2\n",
    "    return np.asarray(var).sum()\n",
    "\n",
    "# also basically the same as for the expected value but calculates the standard deviation\n",
    "def stdDeviation(NMn, invest, norm_ret):\n",
    "    exp = expectedValue(NMn, invest, norm_ret)\n",
    "    distr = hypergeom(NMn[0], NMn[1], NMn[2])\n",
    "    real_ret = (np.asarray(norm_ret) * invest) - invest\n",
    "\n",
    "    dev = list(range(0, NMn[1] + 1))\n",
    "\n",
    "    for i in range(NMn[1]+1):\n",
    "        dev[i] = ((real_ret[i] - exp) ** 2) * distr.pmf(i)\n",
    "\n",
    "    return math.sqrt(np.asarray(dev).sum())"
   ]
  },
  {
   "cell_type": "code",
   "execution_count": 401,
   "metadata": {},
   "outputs": [],
   "source": [
    "# values for X_10\n",
    "invest = 2\n",
    "norm_ret = np.array([2, 0, 0, 0, 0, 2, 5, 15, 100, 1000, 100000])\n",
    "NMn = [70, norm_ret.size -1, 20]"
   ]
  },
  {
   "cell_type": "code",
   "execution_count": 402,
   "metadata": {},
   "outputs": [
    {
     "name": "stdout",
     "output_type": "stream",
     "text": [
      "Erwartungswert von X_10: -1.0120\n",
      "Varianz von X_10: 18735.7766\n",
      "Standardabweichung von X_10: 136.8787\n"
     ]
    }
   ],
   "source": [
    "print(f\"Erwartungswert von X_10: {expectedValue(NMn, invest, norm_ret):.4f}\")\n",
    "print(f\"Varianz von X_10: {variance(NMn, invest, norm_ret):.4f}\")\n",
    "print(f\"Standardabweichung von X_10: {stdDeviation(NMn, invest, norm_ret):.4f}\")"
   ]
  },
  {
   "cell_type": "markdown",
   "metadata": {},
   "source": [
    "## b) EW, Var, Std.abw. für $X_{9}, \\dots X_2$\n",
    "Berechnen Sie ebenso die Erwartungswerte, Varianzen und Standardabweichungen von $X_9, \\dots, X_2$,\n",
    "d. h. dem Gewinn bei Ankreuzen von 9 (bzw. 8, ..., 2) Kästchen in einem Tippfeld jeweils bei Einsatz von 2 €. <br>\n",
    "Zeigen Sie diese drei Kennzahlen auf 4 Nachkommastellen genau an."
   ]
  },
  {
   "cell_type": "markdown",
   "metadata": {},
   "source": [
    "***Tipps:*** <br>\n",
    "- Die Daten stehen auch in der Textdatei `KENO.txt` zur Verfügung. Sie dürfen diese Datei ändern, bevor Sie die Daten einlesen. Sie müssen die Datei jedoch nicht verwenden. \n",
    "- Zum allgemeinen Vorgehen bei Aufgabe 3 sollten Sie auch die **Aufgabe 72** beachten, die in der Statistik-Vorlesung behandelt wird und bei der eine ähnliche Fragestellung vorliegt (Gewinnspiel zum 22-jährigen Bestehen eines Unternehmens)."
   ]
  },
  {
   "cell_type": "code",
   "execution_count": 403,
   "metadata": {},
   "outputs": [
    {
     "data": {
      "text/html": [
       "<div>\n",
       "<style scoped>\n",
       "    .dataframe tbody tr th:only-of-type {\n",
       "        vertical-align: middle;\n",
       "    }\n",
       "\n",
       "    .dataframe tbody tr th {\n",
       "        vertical-align: top;\n",
       "    }\n",
       "\n",
       "    .dataframe thead th {\n",
       "        text-align: right;\n",
       "    }\n",
       "</style>\n",
       "<table border=\"1\" class=\"dataframe\">\n",
       "  <thead>\n",
       "    <tr style=\"text-align: right;\">\n",
       "      <th></th>\n",
       "      <th>Erwartungswert</th>\n",
       "      <th>Varianz</th>\n",
       "      <th>Standardabweichung</th>\n",
       "    </tr>\n",
       "  </thead>\n",
       "  <tbody>\n",
       "    <tr>\n",
       "      <th>X_9</th>\n",
       "      <td>-0.9991</td>\n",
       "      <td>26218.0757</td>\n",
       "      <td>161.9200</td>\n",
       "    </tr>\n",
       "    <tr>\n",
       "      <th>X_8</th>\n",
       "      <td>-1.0212</td>\n",
       "      <td>5358.7205</td>\n",
       "      <td>73.2033</td>\n",
       "    </tr>\n",
       "    <tr>\n",
       "      <th>X_7</th>\n",
       "      <td>-1.0087</td>\n",
       "      <td>331.7899</td>\n",
       "      <td>18.2151</td>\n",
       "    </tr>\n",
       "    <tr>\n",
       "      <th>X_6</th>\n",
       "      <td>-1.0051</td>\n",
       "      <td>301.3534</td>\n",
       "      <td>17.3595</td>\n",
       "    </tr>\n",
       "    <tr>\n",
       "      <th>X_5</th>\n",
       "      <td>-1.0020</td>\n",
       "      <td>56.0134</td>\n",
       "      <td>7.4842</td>\n",
       "    </tr>\n",
       "    <tr>\n",
       "      <th>X_4</th>\n",
       "      <td>-1.0111</td>\n",
       "      <td>11.2623</td>\n",
       "      <td>3.3559</td>\n",
       "    </tr>\n",
       "    <tr>\n",
       "      <th>X_3</th>\n",
       "      <td>-0.9865</td>\n",
       "      <td>20.9925</td>\n",
       "      <td>4.5818</td>\n",
       "    </tr>\n",
       "    <tr>\n",
       "      <th>X_2</th>\n",
       "      <td>-1.0559</td>\n",
       "      <td>10.4379</td>\n",
       "      <td>3.2308</td>\n",
       "    </tr>\n",
       "  </tbody>\n",
       "</table>\n",
       "</div>"
      ],
      "text/plain": [
       "    Erwartungswert     Varianz Standardabweichung\n",
       "X_9        -0.9991  26218.0757           161.9200\n",
       "X_8        -1.0212   5358.7205            73.2033\n",
       "X_7        -1.0087    331.7899            18.2151\n",
       "X_6        -1.0051    301.3534            17.3595\n",
       "X_5        -1.0020     56.0134             7.4842\n",
       "X_4        -1.0111     11.2623             3.3559\n",
       "X_3        -0.9865     20.9925             4.5818\n",
       "X_2        -1.0559     10.4379             3.2308"
      ]
     },
     "execution_count": 403,
     "metadata": {},
     "output_type": "execute_result"
    }
   ],
   "source": [
    "data = pd.DataFrame(\n",
    "    columns=[\"Erwartungswert\", \"Varianz\", \"Standardabweichung\"],\n",
    "    index=[\"X_9\",\"X_8\",\"X_7\",\"X_6\",\"X_5\",\"X_4\",\"X_3\",\"X_2\",],\n",
    ")\n",
    "kenoData = [\n",
    "    [0,0,6],\n",
    "    [0,0,1,16],\n",
    "    [0,0,1,2,22],\n",
    "    [0,0,0,2,7,100],\n",
    "    [0,0,0,1,2,15,500],\n",
    "    [0,0,0,0,1,12,100,1000],\n",
    "    [1,0,0,0,1,2,15,100,10000],\n",
    "    [2,0,0,0,0,2,5,20,1000,50000],\n",
    "]\n",
    "\n",
    "leftover_vars = list(range(2,10,1))\n",
    "\n",
    "for i in range(8):\n",
    "    NMn = [70, np.asarray(kenoData[7-i]).size - 1, 20]\n",
    "    data.iloc[i,0] = format(expectedValue(NMn, invest, kenoData[7-i]), '.4f')\n",
    "    data.iloc[i, 1] = format(variance(NMn, invest, kenoData[7 - i]), '.4f')\n",
    "    data.iloc[i, 2] = format(stdDeviation(NMn, invest, kenoData[7 - i]), '.4f')\n",
    "\n",
    "data"
   ]
  },
  {
   "cell_type": "markdown",
   "metadata": {},
   "source": [
    "## c) Erwarteten Gewinn maximieren\n",
    "\n",
    "Wie viele Kästchen pro Tippfeld sollte ein KENO-Spieler ankreuzen, der den Erwartungswert seines Gewinns maximieren möchte?"
   ]
  },
  {
   "cell_type": "markdown",
   "metadata": {},
   "source": [
    "Um den Gewinn zu maximieren müssen wir den Fall ausnutzen, in welchem der Erwartungswert am höchsten ist. In diesem Fall müsste man 3 Zahlen Ankreuzen um den Gewinn zu maximieren.\n",
    "\n",
    "Zusatz: \n",
    "Realistisch können wir den Gewinn nicht maximieren, da wir grob im Durchschnitt die Hälfte unseres Einsatzes verlieren ( egal wie viele Zahlen wir ankreuzen )"
   ]
  },
  {
   "cell_type": "markdown",
   "metadata": {},
   "source": [
    "## d) Wahrscheinlichkeit zu verlieren\n",
    "Beantworten Sie die in Datei sr_aufg_3d_xy.txt im Unterverzeichnis Endziffer_xy gestellte Frage (xy =\n",
    "Endziffern Ihrer Matrikelnummer). <br>\n",
    "Welche Python-Funktion verwenden Sie hier? Welche Werte muss man für die Parameter einsetzen?"
   ]
  },
  {
   "cell_type": "markdown",
   "metadata": {},
   "source": [
    "***Hinweis:*** Die Datei sr_aufg_3d_xy.txt ist nur aus technischen Gründen im .txt-Format abgespeichert.\n",
    "Sie muss nicht in Python eingelesen werden, sondern kann auch mit Microsoft Word, WordPad oder einem anderen Editor gelesen werden.\n",
    "***Tipps zu 3d):***\n",
    "- Beachten Sie, dass der Verlust des Einsatzes (2 Euro) an einem Spieltag unabhängig ist vom Verlust des Einsatzes an einem anderen Spieltag. Sie können das Spiel an einem Tag als ein Experiment auffassen. Welche diskrete Verteilung beschreibt dann die Anzahl der Tage, an denen Sie Ihren Einsatz verlieren?\n",
    "- Hier treten (je nach Matrikelnummer) Formulierungen wie \"**höchstens** 9-mal\", \"**mindestens** 9-mal\" oder \"**genau** 9-mal\" auf. Verwechseln Sie diese nicht!"
   ]
  },
  {
   "cell_type": "code",
   "execution_count": 404,
   "metadata": {},
   "outputs": [
    {
     "name": "stdout",
     "output_type": "stream",
     "text": [
      "Die Wahrscheinlichkeit beträgt: 0.2070 bzw. 20.70%\n"
     ]
    }
   ],
   "source": [
    "# zuerst müssen wir die wahrscheinlichkeit ausrechnen dass wir bei einem versuch verlust machen\n",
    "# also P(X<=4) - P(X=0) da wir bei keinem treffer gewinn machen\n",
    "hyp_distr = hypergeom(70, 9, 20)\n",
    "prob_no_return = hyp_distr.cdf(4) - hyp_distr.pmf(0)\n",
    "\n",
    "# dann benutzen wir diese wahrscheinlichkeit um herauszufinden wie wahrscheinlich es ist höchstens 6-mal verlust zu machen\n",
    "# dafür benutzen wir die binomialverteilung und zugehörige .cdf funktion um die wahrscheinlichkeit für P(X <= k) auszurechnen\n",
    "bin_distr = binom(8, prob_no_return)\n",
    "\n",
    "print(f'Die Wahrscheinlichkeit beträgt: {bin_distr.cdf(6):.4f} bzw. {bin_distr.cdf(6)*100:.2f}%')"
   ]
  },
  {
   "cell_type": "markdown",
   "metadata": {},
   "source": [
    "### Hinweise zur Abgabe: \n",
    "- Qualitätssicherung: \n",
    "  - Einige Stellen der bei a) und b) zu berechnenden Kennzahlen (Erwartungswert, Varianz, Standardabweichung) sowie der bei d) zu berechnenden Wahrscheinlichkeit finden Sie in der Datei „Teilergebnisse_xy.txt“ (xy = Endziffern Ihrer Matrikelnummer). Kontrollieren Sie bitte Ihre Ergebnisse vor der Abgabe mit den Ihnen zur Verfügung gestellten Teilergebnissen. <br>Falls Ihre Resultate nicht mit den Teilergebnissen aus der Datei ***Teilergebnisse_xy.txt*** übereinstimmen, beachten Sie die Tipps und Hinweise oder kommen Sie in die Laborsprechstunde. \n",
    "  - Falls Ihre Abgabe größere Fehler oder wesentliche Mängel aufweist oder Aufgabenteile fehlen, wird die Aufgabe mit „nicht bestanden“ bewertet, und Sie haben nicht die Möglichkeit einer Korrektur.\n",
    "- Abgabe:\n",
    "  - Laden Sie das von Ihnen erstelle (und kontrollierte!) jupyter-Notebook mit der Lösung möglichst bald nach der Fertigstellung in Moodle hoch. \n",
    "  - Dateiname: Bitte benennen Sie Ihre Abgabedatei nach folgendem Schema: \n",
    "    Name_Matrikelnummer_Aufgabennummer_Versionsnummer. <br>\n",
    "    Beispiel: **Melzer_7654321_A3_V1.ipynb**"
   ]
  }
 ],
 "metadata": {
  "kernelspec": {
   "display_name": "Python 3",
   "language": "python",
   "name": "python3"
  },
  "language_info": {
   "codemirror_mode": {
    "name": "ipython",
    "version": 3
   },
   "file_extension": ".py",
   "mimetype": "text/x-python",
   "name": "python",
   "nbconvert_exporter": "python",
   "pygments_lexer": "ipython3",
   "version": "3.10.12"
  }
 },
 "nbformat": 4,
 "nbformat_minor": 4
}
