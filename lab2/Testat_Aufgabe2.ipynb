{
 "cells": [
  {
   "cell_type": "markdown",
   "metadata": {},
   "source": [
    "# Statistik-Labor Testat Aufgabe 2"
   ]
  },
  {
   "cell_type": "markdown",
   "metadata": {},
   "source": [
    "Sie können dieses File als Vorlage für Ihre Lösung verwenden und nicht benötigte Teile rauslöschen bzw. Zellen für die Lösung ergänzen. <br> \n",
    "***Tipps und Hinweise:*** Alle Zellen, die mit _Tipps und Hinweise_ anfangen, können Sie löschen, falls Sie sie nicht (mehr) brauchen. <br>\n",
    "Oder Sie kopieren die Aufgaben in ein eigenes Lösungsnotebook."
   ]
  },
  {
   "cell_type": "markdown",
   "metadata": {},
   "source": [
    "# Aufgabe 2\n",
    "Untersuchen Sie die Bevölkerungsentwicklung der USA. In der Datei **sr_aufg_2_xy.txt** im\n",
    "Unterverzeichnis **Endziffer_xy** (*„xy“ steht für die beiden Endziffern Ihrer Matrikelnummer*) finden\n",
    "Sie die dafür erforderlichen Daten. <br> \n",
    "Diese Datei enthält zwei Spalten fester Breite: Jahreszahl und Anzahl der Einwohner der USA in Millionen (zu einem festen Stichtag in dem angegebenen Jahr)."
   ]
  },
  {
   "cell_type": "markdown",
   "metadata": {},
   "source": [
    "# a) Daten einlesen\n",
    "Lesen Sie Daten in **Python** bzw. ein **Jupyter Notebook** ein. Speichern Sie sie in einem **Pandas DataFrame** ab."
   ]
  },
  {
   "cell_type": "markdown",
   "metadata": {},
   "source": [
    "***Tipp:***<br>\n",
    "Um das Einlesen zu erleichtern, können Sie den folgenden Code verwenden, um die Datei mit den Daten einzulesen und Spaltenbeschriftungen zu ergänzen: "
   ]
  },
  {
   "cell_type": "code",
   "execution_count": 51,
   "metadata": {
    "metadata": {}
   },
   "outputs": [
    {
     "data": {
      "text/html": [
       "<div>\n",
       "<style scoped>\n",
       "    .dataframe tbody tr th:only-of-type {\n",
       "        vertical-align: middle;\n",
       "    }\n",
       "\n",
       "    .dataframe tbody tr th {\n",
       "        vertical-align: top;\n",
       "    }\n",
       "\n",
       "    .dataframe thead th {\n",
       "        text-align: right;\n",
       "    }\n",
       "</style>\n",
       "<table border=\"1\" class=\"dataframe\">\n",
       "  <thead>\n",
       "    <tr style=\"text-align: right;\">\n",
       "      <th></th>\n",
       "      <th>Jahr</th>\n",
       "      <th>Einwohner in Mio.</th>\n",
       "    </tr>\n",
       "  </thead>\n",
       "  <tbody>\n",
       "    <tr>\n",
       "      <th>0</th>\n",
       "      <td>1790</td>\n",
       "      <td>3.929214</td>\n",
       "    </tr>\n",
       "    <tr>\n",
       "      <th>1</th>\n",
       "      <td>1800</td>\n",
       "      <td>5.308483</td>\n",
       "    </tr>\n",
       "    <tr>\n",
       "      <th>2</th>\n",
       "      <td>1810</td>\n",
       "      <td>7.239881</td>\n",
       "    </tr>\n",
       "    <tr>\n",
       "      <th>3</th>\n",
       "      <td>1820</td>\n",
       "      <td>9.638453</td>\n",
       "    </tr>\n",
       "    <tr>\n",
       "      <th>4</th>\n",
       "      <td>1830</td>\n",
       "      <td>12.866020</td>\n",
       "    </tr>\n",
       "    <tr>\n",
       "      <th>5</th>\n",
       "      <td>1840</td>\n",
       "      <td>17.069453</td>\n",
       "    </tr>\n",
       "    <tr>\n",
       "      <th>6</th>\n",
       "      <td>1850</td>\n",
       "      <td>23.191876</td>\n",
       "    </tr>\n",
       "    <tr>\n",
       "      <th>7</th>\n",
       "      <td>1860</td>\n",
       "      <td>31.443321</td>\n",
       "    </tr>\n",
       "    <tr>\n",
       "      <th>8</th>\n",
       "      <td>1870</td>\n",
       "      <td>39.818449</td>\n",
       "    </tr>\n",
       "    <tr>\n",
       "      <th>9</th>\n",
       "      <td>1880</td>\n",
       "      <td>50.189209</td>\n",
       "    </tr>\n",
       "    <tr>\n",
       "      <th>10</th>\n",
       "      <td>1890</td>\n",
       "      <td>62.979766</td>\n",
       "    </tr>\n",
       "    <tr>\n",
       "      <th>11</th>\n",
       "      <td>1900</td>\n",
       "      <td>76.212168</td>\n",
       "    </tr>\n",
       "    <tr>\n",
       "      <th>12</th>\n",
       "      <td>1910</td>\n",
       "      <td>92.228496</td>\n",
       "    </tr>\n",
       "    <tr>\n",
       "      <th>13</th>\n",
       "      <td>1920</td>\n",
       "      <td>106.021537</td>\n",
       "    </tr>\n",
       "    <tr>\n",
       "      <th>14</th>\n",
       "      <td>1930</td>\n",
       "      <td>123.202624</td>\n",
       "    </tr>\n",
       "    <tr>\n",
       "      <th>15</th>\n",
       "      <td>1940</td>\n",
       "      <td>132.164569</td>\n",
       "    </tr>\n",
       "    <tr>\n",
       "      <th>16</th>\n",
       "      <td>1950</td>\n",
       "      <td>151.325798</td>\n",
       "    </tr>\n",
       "    <tr>\n",
       "      <th>17</th>\n",
       "      <td>1960</td>\n",
       "      <td>179.323175</td>\n",
       "    </tr>\n",
       "    <tr>\n",
       "      <th>18</th>\n",
       "      <td>1970</td>\n",
       "      <td>203.302031</td>\n",
       "    </tr>\n",
       "    <tr>\n",
       "      <th>19</th>\n",
       "      <td>1980</td>\n",
       "      <td>226.542199</td>\n",
       "    </tr>\n",
       "    <tr>\n",
       "      <th>20</th>\n",
       "      <td>1990</td>\n",
       "      <td>248.718302</td>\n",
       "    </tr>\n",
       "    <tr>\n",
       "      <th>21</th>\n",
       "      <td>2000</td>\n",
       "      <td>281.424603</td>\n",
       "    </tr>\n",
       "    <tr>\n",
       "      <th>22</th>\n",
       "      <td>2020</td>\n",
       "      <td>331.449281</td>\n",
       "    </tr>\n",
       "  </tbody>\n",
       "</table>\n",
       "</div>"
      ],
      "text/plain": [
       "    Jahr  Einwohner in Mio.\n",
       "0   1790           3.929214\n",
       "1   1800           5.308483\n",
       "2   1810           7.239881\n",
       "3   1820           9.638453\n",
       "4   1830          12.866020\n",
       "5   1840          17.069453\n",
       "6   1850          23.191876\n",
       "7   1860          31.443321\n",
       "8   1870          39.818449\n",
       "9   1880          50.189209\n",
       "10  1890          62.979766\n",
       "11  1900          76.212168\n",
       "12  1910          92.228496\n",
       "13  1920         106.021537\n",
       "14  1930         123.202624\n",
       "15  1940         132.164569\n",
       "16  1950         151.325798\n",
       "17  1960         179.323175\n",
       "18  1970         203.302031\n",
       "19  1980         226.542199\n",
       "20  1990         248.718302\n",
       "21  2000         281.424603\n",
       "22  2020         331.449281"
      ]
     },
     "execution_count": 51,
     "metadata": {},
     "output_type": "execute_result"
    }
   ],
   "source": [
    "import pandas as pd\n",
    "\n",
    "#ToDo: 1. Speichern Sie die Datei sr_aufg_2_xy.txt aus Moodle in dem Ordner, \n",
    "#         in dem das jupyter Notebook mit Ihrer Lösung liegt. \n",
    "#         xy = Endziffern Ihrer Matrikelnummer\n",
    "#      2. Ersetzen Sie im read_csv-Befehl beim Dateinamen xy durch Ihre Matrikelnummer\n",
    "#      3. Lassen Sie sich alle Daten anzeigen, um \"fehlerhafte\" Daten zu erkennen\n",
    "\n",
    "df = pd.read_csv('../data/sr_aufg_2_59.txt', \n",
    "                 sep='\\s+',  \n",
    "                 decimal = ',',\n",
    "                 header = None,\n",
    "                 names=['Jahr','Einwohner in Mio.'])\n",
    "df"
   ]
  },
  {
   "cell_type": "markdown",
   "metadata": {},
   "source": [
    "## b) Streudiagramm\n",
    "Stellen Sie die Bevölkerungsentwicklung in einem Streudiagramm dar."
   ]
  },
  {
   "cell_type": "markdown",
   "metadata": {},
   "source": [
    "\n",
    "***Tipps und Hinweise:*** <br>\n",
    "- Dabei sollen auf der $x$-Achse die Jahre und auf der $y$-Achse die Bevölkerungszahlen angegeben sein.\n",
    "- Beschriften Sie die Achsen („Jahr“, „Millionen Einwohner“) und geben Sie Ihrem Diagramm einen sprechenden Titel. \n"
   ]
  },
  {
   "cell_type": "code",
   "execution_count": 52,
   "id": "8f20e400",
   "metadata": {
    "metadata": {}
   },
   "outputs": [
    {
     "data": {
      "text/plain": [
       "Text(0.5, 1.0, 'Einwohnerdaten USA ( 1790-2020 )')"
      ]
     },
     "execution_count": 52,
     "metadata": {},
     "output_type": "execute_result"
    },
    {
     "data": {
      "image/png": "[encoded data removed]",
      "text/plain": [
       "<Figure size 640x480 with 1 Axes>"
      ]
     },
     "metadata": {},
     "output_type": "display_data"
    }
   ],
   "source": [
    "import matplotlib.pyplot as plt\n",
    "plt.scatter(df['Jahr'], df['Einwohner in Mio.'])\n",
    "plt.xlabel(\"Jahr\")\n",
    "plt.ylabel(\"Millionen Einwohner\")\n",
    "plt.title(\"Einwohnerdaten USA ( 1790-2020 )\")"
   ]
  },
  {
   "cell_type": "markdown",
   "metadata": {},
   "source": [
    "## c) Regression\n",
    "Untersuchen Sie die folgenden fünf Möglichkeiten, eine Regressionskurve durch die Punkte zu legen:\n",
    "- Lineare Regression: \t$y=a+bx$\n",
    "- Polynom 2. Grades:\t$y=a+bx+cx^2$\n",
    "- Polynom 3. Grades: \t$y=a+bx+cx^2+dx^3$\n",
    "- Polynom 5. Grades: \t$y=a+bx+cx^2+dx^3+ex^4+fx^5$\n",
    "\n",
    "Und falls Ihre Matrikelnummer ... \n",
    "- ... gerade ist: \t Exponentialfunktion: \t$y=a \\cdot \\textrm{e}^bx$\n",
    "- ... ungerade ist:  Logarithmusfunktion: \t$y=a \\cdot \\ln⁡(x)+b $\n",
    "\n",
    "Geben Sie die Koeffizienten der Regression für alle Regressionstypen aus (`model.intercept_`, `model.coef_`). \n",
    "\n",
    "Stellen Sie alle Möglichkeiten in einer **Tabelle** mit zwei Spalten dar, in der Sie den Regressionstyp (z.B. lineare Regression, Polynom 2. Grades, $\\dots$) und das Bestimmtheitsmaß angeben. Runden Sie das Bestimmtheitsmaß auf 4 Nachkommastellen. "
   ]
  },
  {
   "cell_type": "markdown",
   "metadata": {},
   "source": [
    "***Tipps und Hinweise:*** <br>\n",
    "- Verwenden Sie für die Schätzung der Regressionskurven und des Bestimmtheitsmaßes **standardisierte Eingangswerte** (Jahreszahlen) d. h. $x$-Werte mit arithmetischem Mittel $\\overline{x}=0$ und empirischer Standardabweichung $s=1$.\n",
    "- **Lineare Regression**\n",
    "  - $x$-Werte standardisieren\n",
    "  - Regression mit den standardisierten $x$-Werten. \n",
    "- Alternativen für **polynomiale Regression**: \n",
    "   1. mit Feature-Transformation und linearer Regression: \n",
    "      - $x$-Werte standardisieren\n",
    "      - Potenzen der skalierten $x$-Werte erzeugen mit `PolynomialFeatures(degree=k)`\n",
    "      - Lineare Regression mit den erzeugten Werten\n",
    "   2. mit der numpy-Funktion `np.polyfit`\n",
    "- Alternativen für die **Exponential- bzw. Logarithmusfunktion** \n",
    "   1. mit Transformation der $x$- und/oder $y$-Werte und Linearer Regression: \n",
    "      - Exponentialfunktion $y=a \\cdot \\textrm{e}^bx \\quad | \\ln(\\dots) \\quad \\Leftrightarrow \\quad \n",
    "        \\ln(y) = \\ln(a) + b \\cdot x$ <br>\n",
    "        Logarithmieren der $y$-Werte z. B. mit numpy: `np.log(X)` <br>\n",
    "        Lineare Regression mit standardisiertem $x$ und $\\ln(y)$ möglich\n",
    "      - Logarithmusfunktion $y=a \\cdot \\ln⁡(x)+b$ (ist schon linear): <br>\n",
    "        Reihenfolge beachten: zuerst logarithmieren, dann standardisieren \n",
    "        ($\\ln()$ von negativen Werten nicht möglich). \n",
    "        1. Logarithmus der $x$-Werte berechnen, z. B. mit numpy: `np.log(X)`\n",
    "        2. logarithmisierte Werte standardisieren\n",
    "        3. Lineare Regression mit den logarithmisierten und standardisierten $x$-Werten\n",
    "   2. siehe z. B. „Regression mit curve_fit“"
   ]
  },
  {
   "cell_type": "code",
   "execution_count": 53,
   "id": "635691f2",
   "metadata": {
    "metadata": {}
   },
   "outputs": [
    {
     "name": "stdout",
     "output_type": "stream",
     "text": [
      "Lineare Regressionsgerade ( mx + c ):\n",
      "\n",
      "\tm = 92.2967\n",
      "\tc = 105.0256\n",
      "\n",
      "Logarithmische Funktion ( m * ln(x) + c): \n",
      "\n",
      "\tm = 2601.3105\n",
      "\tc = -19532.8264\n",
      "\n",
      "                Typ  Bestimmtheitsmaß\n",
      " Lineare Regression          0.918243\n",
      "  Polynom 2. Grades          0.999200\n",
      "  Polynom 3. Grades          0.999249\n",
      "  Polynom 5. Grades          0.999301\n",
      "Logarithmusfunktion          0.909198\n"
     ]
    }
   ],
   "source": [
    "import numpy as np\n",
    "from sklearn.preprocessing import StandardScaler, PolynomialFeatures\n",
    "from sklearn.linear_model import LinearRegression\n",
    "from sklearn.metrics import r2_score\n",
    "\n",
    "# Werte skalieren\n",
    "scaler = StandardScaler()\n",
    "X = df[[\"Jahr\"]]\n",
    "Y = df[\"Einwohner in Mio.\"]\n",
    "X_scaled = scaler.fit_transform(X)\n",
    "\n",
    "# Lineare Regressionsgerade\n",
    "lin_model = LinearRegression()\n",
    "lin_model.fit(X_scaled, Y)\n",
    "lin_det_coeff = lin_model.score(X_scaled, Y)\n",
    "\n",
    "function_degs = [2, 3, 5]\n",
    "det_coeff = []\n",
    "\n",
    "models = []\n",
    "\n",
    "# Polynomische Regressionskurven\n",
    "for elem in function_degs:\n",
    "    feat = PolynomialFeatures(degree=elem)\n",
    "    X_func = feat.fit_transform(X_scaled)\n",
    "    model = LinearRegression()\n",
    "    model.fit(X_func, Y)\n",
    "\n",
    "    det_coeff.append(model.score(X_func, Y))\n",
    "    models.append(model)\n",
    "\n",
    "# Log-Funktion\n",
    "X_log = np.log(X)\n",
    "log_model = LinearRegression()\n",
    "log_model.fit(X_log, Y)\n",
    "log_det_coeff = log_model.score(X_log, Y)\n",
    "\n",
    "\n",
    "print(f\"Lineare Regressionsgerade ( mx + c ):\\n\")\n",
    "print(f\"\\tm = {lin_model.coef_[0]:.4f}\")\n",
    "print(f\"\\tc = {lin_model.intercept_:.4f}\\n\")\n",
    "\n",
    "print(f\"Logarithmische Funktion ( m * ln(x) + c): \\n\")\n",
    "print(f\"\\tm = {log_model.coef_[0]:.4f}\")\n",
    "print(f\"\\tc = {log_model.intercept_:.4f}\\n\")\n",
    "\n",
    "data = [\n",
    "    [\"Lineare Regression\", lin_det_coeff],\n",
    "    [\"Polynom 2. Grades\", det_coeff[0]],\n",
    "    [\"Polynom 3. Grades\", det_coeff[1]],\n",
    "    [\"Polynom 5. Grades\", det_coeff[2]],\n",
    "    [\"Logarithmusfunktion\", log_det_coeff]]\n",
    "\n",
    "all_coeffs = pd.DataFrame(data, columns=[\"Typ\", \"Bestimmtheitsmaß\"])\n",
    "\n",
    "print(all_coeffs.to_string(index=False))\n",
    "\n",
    "# the lines below are just to compare the polynomal functions graphically\n",
    "\n",
    "# def log(x):\n",
    "#     return log_model.coef_[0] * np.log(x) + log_model.intercept_\n",
    "\n",
    "\n",
    "# plt.scatter(X, Y)\n",
    "# plt.plot(X, log(X))\n",
    "\n",
    "# X_orig = X.values\n",
    "# X_orig_scaled = scaler.transform(X_orig)\n",
    "\n",
    "# X_poly2 = PolynomialFeatures(degree=2).fit_transform(X_orig_scaled)\n",
    "# X_poly3 = PolynomialFeatures(degree=3).fit_transform(X_orig_scaled)\n",
    "# X_poly5 = PolynomialFeatures(degree=5).fit_transform(X_orig_scaled)\n",
    "\n",
    "# y_pred2 = models[0].predict(X_poly2)\n",
    "# y_pred3 = models[1].predict(X_poly3)\n",
    "# y_pred5 = models[2].predict(X_poly5)\n",
    "\n",
    "# plt.plot(X_orig, y_pred2, color='red', linewidth=2, label='Polynom 2. Grades')\n",
    "# plt.plot(X_orig, y_pred3, color='green', linewidth=2, label='Polynom 3. Grades')\n",
    "# plt.plot(X_orig, y_pred5, color='orange', linewidth=2, label='Polynom 5. Grades')"
   ]
  },
  {
   "cell_type": "markdown",
   "metadata": {},
   "source": [
    "## d) Wahl der optimalen Kurve\n",
    "Wählen Sie aus den von Ihnen untersuchten Möglichkeiten die am **besten geeignete Kurve**.\n",
    "Erläutern Sie Ihre Wahl."
   ]
  },
  {
   "cell_type": "markdown",
   "metadata": {},
   "source": [
    "***Tipps und Hinweise:*** <br>\n",
    "- Beachten Sie bei der Auswahl der optimalen Regressionskurve die Hinweise in der Vorlesung und die Aufgabe 27c) des Aufgabenblattes zu Kapitel 1 – 3. \n",
    "- Auch die Einführung zur Aufgabe 2 des Statistiklabors kann hilfreich sein."
   ]
  },
  {
   "cell_type": "markdown",
   "id": "9018bd7c",
   "metadata": {},
   "source": [
    "Aus Graphischer Sicht ist relativ egal welche der Kurven wir für die annäherung benutzen, jedoch ist eine Funktion eines kleineren Grades immer einfacher zu berechnen.\n",
    "Auch besteht weniger die Gefahr der Überkompensation für die Werte der späteren Vorrausberechnung.\n",
    "\n",
    "Aus diesem Grund würde ich die Kurve des Polynoms 2. Grades nutzen."
   ]
  },
  {
   "cell_type": "markdown",
   "metadata": {},
   "source": [
    "## e) Streudiagramm mit optimaler Regressionskurve\n",
    "Zeichnen Sie in das Streudiagramm die optimale Regressionskurve aus d) ein. Ergänzen\n",
    "Sie eine Legende, die angibt, welche Daten bzw. welche Regressionskurve dargestellt sind. Ein\n",
    "Muster hierzu gibt es bei den Tipps und Hinweisen.\n",
    "\n",
    "Geben Sie außerdem die Gleichung der Regressionskurve an. "
   ]
  },
  {
   "cell_type": "markdown",
   "metadata": {},
   "source": [
    "***Tipps und Hinweise:*** <br>\n",
    "- Evtl. ist es leichter, das Diagramm (sowie die Prognose aus f)) an anderer Stelle direkt nach der zugehörigen Regression einzufügen. \n",
    "- Verkleinertes Muster\n",
    "<div>\n",
    "<img src=\"img/a2_logarithm_regression.png\" width=\"500\"/>\n",
    "</div>\n",
    "- **Achtung:** Dieses Diagramm zeigt die logarithmische Regressionskurve. **Das ist nicht die optimale Regressionskurve**. Das Diagramm soll Ihnen lediglich zeigen, wie z. B. die Achsen zu beschriften bzw. mit Achsentiteln zu versehen sind und wie die Legende zu gestalten ist."
   ]
  },
  {
   "cell_type": "code",
   "execution_count": 54,
   "id": "9cfb27f9",
   "metadata": {
    "metadata": {}
   },
   "outputs": [
    {
     "name": "stderr",
     "output_type": "stream",
     "text": [
      "/prog/statistics/.venv/lib/python3.10/site-packages/sklearn/base.py:493: UserWarning: X does not have valid feature names, but StandardScaler was fitted with feature names\n",
      "  warnings.warn(\n"
     ]
    },
    {
     "data": {
      "image/png": "[encoded data removed]",
      "text/plain": [
       "<Figure size 640x480 with 1 Axes>"
      ]
     },
     "metadata": {},
     "output_type": "display_data"
    }
   ],
   "source": [
    "# Orginale Daten im Streudiagramm\n",
    "plt.scatter(X, Y, color='blue', label='Daten')\n",
    "\n",
    "\n",
    "X_orig = X.values\n",
    "X_orig_scaled = scaler.transform(X_orig)\n",
    "\n",
    "X_poly2 = PolynomialFeatures(degree=2).fit_transform(X_orig_scaled)\n",
    "\n",
    "y_pred2 = models[0].predict(X_poly2)\n",
    "\n",
    "# Polynom 2. Grades\n",
    "plt.plot(X_orig, y_pred2, color='red', linewidth=2, label='Polynom 2. Grades')\n",
    "\n",
    "# Formatierung der Grafik\n",
    "plt.xlabel('Jahr')\n",
    "plt.ylabel('Einwohner in Mio.')\n",
    "plt.title('Bevölkerungswachstum der USA')\n",
    "plt.legend()\n",
    "\n",
    "plt.grid(True)\n",
    "plt.show()\n"
   ]
  },
  {
   "cell_type": "markdown",
   "metadata": {},
   "source": [
    "## f) Prognose mit optimaler Kurve\n",
    "Berechnen Sie aus den Ihnen vorgelegten Daten eine Prognose über die Bevölkerungszahl der\n",
    "USA **im Jahr 2030**. "
   ]
  },
  {
   "cell_type": "markdown",
   "metadata": {},
   "source": [
    "***Tipps und Hinweise:*** <br>\n",
    "- Evtl. ist es sinnvoller, das Diagramm aus e) sowie die Prognose aus f) an anderer Stelle direkt nach der zugehörigen Regression einzufügen. \n",
    "- Der zu prognostizierende Wert (Jahr 2030) muss im richtigen Format vorliegen und \n",
    "- alle preprocessing-Schritte durchlaufen, die Sie mit den $x$-Werten für die Regression durchgeführt haben.\n",
    "- Verwenden Sie die Methode `.predict()` für die Regression, die Sie für geeignet halten. \n",
    "- Zwei Stellen des korrekten Prognosewertes können Sie aus der Datei „Teilergebnisse_xy.txt“ (xy = Endziffern Ihrer Matrikelnummer) ablesen. Wenn diese beiden Stellen stimmen, bietet das jedoch keine hundertprozentige Sicherheit,\n",
    "dass Ihr Zahlenwert richtig ist. \n",
    "- Überprüfen Sie daher auch mit Hilfe Ihres Diagramms e) sowie mit gesundem Menschenverstand, ob der von Ihnen berechnete Prognosewert plausibel ist.\n",
    "- Die Prognose mit logarithmischer Regression (Teil g) in den Teilergebnissen) ist nicht gefragt. "
   ]
  },
  {
   "cell_type": "code",
   "execution_count": 55,
   "id": "057fa2a4",
   "metadata": {
    "metadata": {}
   },
   "outputs": [
    {
     "name": "stdout",
     "output_type": "stream",
     "text": [
      "Im Jahr 2030 sollte die Bevölkerung bei ca. 362.535 Mio. Menschen angekommen sein.\n"
     ]
    },
    {
     "name": "stderr",
     "output_type": "stream",
     "text": [
      "/prog/statistics/.venv/lib/python3.10/site-packages/sklearn/base.py:493: UserWarning: X does not have valid feature names, but StandardScaler was fitted with feature names\n",
      "  warnings.warn(\n"
     ]
    }
   ],
   "source": [
    "# Berechnung der Prognose für das Jahr 2030\n",
    "pred_year = 2030\n",
    "arr = np.array([[pred_year]])\n",
    "scaled = scaler.transform(arr)\n",
    "poly_pred = PolynomialFeatures(degree=2).fit_transform(scaled)\n",
    "progn = models[0].predict(poly_pred)\n",
    "\n",
    "print(f'Im Jahr 2030 sollte die Bevölkerung bei ca. {progn[0]:.3f} Mio. Menschen angekommen sein.')"
   ]
  },
  {
   "cell_type": "markdown",
   "metadata": {},
   "source": [
    "### Hinweise zur Abgabe: \n",
    "\n",
    "- In der Datei *Teilergebnisse_xy.txt* gibt es Teilergebnisse für eine *Prognose mit der logarithmischen Regression*. Dies ist **nicht** Teil dieser Aufgabe. \n",
    "- Die Abgabedatei zu Aufgabe 2 muss enthalten: \n",
    "  1.\tEine Tabelle zu c). Aus der Tabelle sollten mindestens ersichtlich sein: der Typ der Regressionskurve sowie das zugehörige Bestimmtheitsmaß.\n",
    "  2. Eine Erläuterung, welche Regressionskurve Sie in d) gewählt haben (mit Begründung, warum der von Ihnen gewählte Typ am besten geeignet ist).\n",
    "  3. Das Diagramm aus b) mit der optimalen Regressionskurve aus d) / e).\n",
    "  4. Das Ergebnis Ihrer Berechnungen zu f).\n",
    "- Qualitätssicherung: \n",
    "  - Falls Ihre Resultate nicht mit den Teilergebnissen aus der Datei ***Teilergebnisse_xy.txt*** übereinstimmen, beachten Sie die Tipps und Hinweise oder kommen Sie in die Laborsprechstunde. (Wenn Sie die Prognose mit `.predict()` berechnen, werden ausreichend viele Nachkommastellen berücksichtig.) \n",
    "  - Falls Ihre Abgabe größere Fehler oder wesentliche Mängel aufweist oder Aufgabenteile fehlen, wird die Aufgabe mit „nicht bestanden“ bewertet, und Sie haben nicht die Möglichkeit einer Korrektur.\n",
    "- Abgabe:\n",
    "  - Laden Sie das von Ihnen erstelle (und kontrollierte!) jupyter-Notebook mit der Lösung möglichst bald nach der Fertigstellung in Moodle hoch. \n",
    "  - Dateiname: Bitte benennen Sie Ihre Abgabedatei nach folgendem Schema: \n",
    "    Name_Matrikelnummer_Aufgabennummer_Versionsnummer. <br>\n",
    "    Beispiel: **Melzer_7654321_A2_V1.ipynb**"
   ]
  },
  {
   "cell_type": "markdown",
   "id": "aa2c9b5e",
   "metadata": {},
   "source": [
    "# Zu den Fehlern/Warnungen\n",
    "\n",
    "Alle Fehler die Angezeigt werden sind \"nur\" Warnungen und zu Ignorieren.\n",
    "Keiner der Fehler hat eine auswirkung auf die Genauigkeit der Daten."
   ]
  }
 ],
 "metadata": {
  "kernelspec": {
   "display_name": "Python 3",
   "language": "python",
   "name": "python3"
  },
  "language_info": {
   "codemirror_mode": {
    "name": "ipython",
    "version": 3
   },
   "file_extension": ".py",
   "mimetype": "text/x-python",
   "name": "python",
   "nbconvert_exporter": "python",
   "pygments_lexer": "ipython3",
   "version": "3.10.12"
  }
 },
 "nbformat": 4,
 "nbformat_minor": 5
}
